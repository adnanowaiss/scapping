{
  "nbformat": 4,
  "nbformat_minor": 0,
  "metadata": {
    "colab": {
      "name": "webscrapping.ipynb",
      "provenance": [],
      "collapsed_sections": [],
      "toc_visible": true,
      "authorship_tag": "ABX9TyMq6EUqP/ccvU2W5o+dIAJP",
      "include_colab_link": true
    },
    "kernelspec": {
      "name": "python3",
      "display_name": "Python 3"
    }
  },
  "cells": [
    {
      "cell_type": "markdown",
      "metadata": {
        "id": "view-in-github",
        "colab_type": "text"
      },
      "source": [
        "<a href=\"https://colab.research.google.com/github/adnanowaiss/scapping/blob/master/webscrapping.ipynb\" target=\"_parent\"><img src=\"https://colab.research.google.com/assets/colab-badge.svg\" alt=\"Open In Colab\"/></a>"
      ]
    },
    {
      "cell_type": "code",
      "metadata": {
        "id": "6MgAMDQ6yOEp",
        "colab_type": "code",
        "colab": {
          "base_uri": "https://localhost:8080/",
          "height": 102
        },
        "outputId": "5fcb5570-9f6c-41f5-e9af-ff77cbf92e9d"
      },
      "source": [
        "pip install requests"
      ],
      "execution_count": 2,
      "outputs": [
        {
          "output_type": "stream",
          "text": [
            "Requirement already satisfied: requests in /usr/local/lib/python3.6/dist-packages (2.21.0)\n",
            "Requirement already satisfied: urllib3<1.25,>=1.21.1 in /usr/local/lib/python3.6/dist-packages (from requests) (1.24.3)\n",
            "Requirement already satisfied: chardet<3.1.0,>=3.0.2 in /usr/local/lib/python3.6/dist-packages (from requests) (3.0.4)\n",
            "Requirement already satisfied: idna<2.9,>=2.5 in /usr/local/lib/python3.6/dist-packages (from requests) (2.8)\n",
            "Requirement already satisfied: certifi>=2017.4.17 in /usr/local/lib/python3.6/dist-packages (from requests) (2019.11.28)\n"
          ],
          "name": "stdout"
        }
      ]
    },
    {
      "cell_type": "code",
      "metadata": {
        "id": "dTaZif0h18cK",
        "colab_type": "code",
        "colab": {}
      },
      "source": [
        "import requests"
      ],
      "execution_count": 0,
      "outputs": []
    },
    {
      "cell_type": "code",
      "metadata": {
        "id": "GpQ4edrs2BTI",
        "colab_type": "code",
        "colab": {}
      },
      "source": [
        "page = requests.get(\"http://dataquestio.github.io/web-scraping-pages/simple.html\")"
      ],
      "execution_count": 0,
      "outputs": []
    },
    {
      "cell_type": "code",
      "metadata": {
        "id": "EAetXqd92NGh",
        "colab_type": "code",
        "colab": {
          "base_uri": "https://localhost:8080/",
          "height": 34
        },
        "outputId": "fdd54a8f-344b-49b3-c19b-eb05c3e3faac"
      },
      "source": [
        "page"
      ],
      "execution_count": 5,
      "outputs": [
        {
          "output_type": "execute_result",
          "data": {
            "text/plain": [
              "<Response [200]>"
            ]
          },
          "metadata": {
            "tags": []
          },
          "execution_count": 5
        }
      ]
    },
    {
      "cell_type": "code",
      "metadata": {
        "id": "cXVCGRSp2Oow",
        "colab_type": "code",
        "colab": {
          "base_uri": "https://localhost:8080/",
          "height": 54
        },
        "outputId": "8b2616ca-ea7f-4468-819c-c6dcdc2f2ab7"
      },
      "source": [
        "page.content"
      ],
      "execution_count": 6,
      "outputs": [
        {
          "output_type": "execute_result",
          "data": {
            "text/plain": [
              "b'<!DOCTYPE html>\\n<html>\\n    <head>\\n        <title>A simple example page</title>\\n    </head>\\n    <body>\\n        <p>Here is some simple content for this page.</p>\\n    </body>\\n</html>'"
            ]
          },
          "metadata": {
            "tags": []
          },
          "execution_count": 6
        }
      ]
    },
    {
      "cell_type": "code",
      "metadata": {
        "id": "Iyp0tNA72vaZ",
        "colab_type": "code",
        "colab": {}
      },
      "source": [
        "from bs4 import BeautifulSoup"
      ],
      "execution_count": 0,
      "outputs": []
    },
    {
      "cell_type": "code",
      "metadata": {
        "id": "Vm04mdsi2w5Z",
        "colab_type": "code",
        "colab": {}
      },
      "source": [
        "soup = BeautifulSoup(page.content , 'html.parser')"
      ],
      "execution_count": 0,
      "outputs": []
    },
    {
      "cell_type": "code",
      "metadata": {
        "id": "P3Zw22VO3Akn",
        "colab_type": "code",
        "colab": {
          "base_uri": "https://localhost:8080/",
          "height": 187
        },
        "outputId": "51e017b0-ee56-4a60-fbdc-6947cb13bab3"
      },
      "source": [
        "print(soup.prettify)"
      ],
      "execution_count": 9,
      "outputs": [
        {
          "output_type": "stream",
          "text": [
            "<bound method Tag.prettify of <!DOCTYPE html>\n",
            "\n",
            "<html>\n",
            "<head>\n",
            "<title>A simple example page</title>\n",
            "</head>\n",
            "<body>\n",
            "<p>Here is some simple content for this page.</p>\n",
            "</body>\n",
            "</html>>\n"
          ],
          "name": "stdout"
        }
      ]
    },
    {
      "cell_type": "code",
      "metadata": {
        "id": "YagkNa_R3ASC",
        "colab_type": "code",
        "colab": {
          "base_uri": "https://localhost:8080/",
          "height": 153
        },
        "outputId": "478208e6-5c98-4179-b36e-f0ec36f5ffef"
      },
      "source": [
        "list(soup.children)"
      ],
      "execution_count": 10,
      "outputs": [
        {
          "output_type": "execute_result",
          "data": {
            "text/plain": [
              "['html', '\\n', <html>\n",
              " <head>\n",
              " <title>A simple example page</title>\n",
              " </head>\n",
              " <body>\n",
              " <p>Here is some simple content for this page.</p>\n",
              " </body>\n",
              " </html>]"
            ]
          },
          "metadata": {
            "tags": []
          },
          "execution_count": 10
        }
      ]
    },
    {
      "cell_type": "code",
      "metadata": {
        "id": "D4ml5pJb4XZe",
        "colab_type": "code",
        "colab": {
          "base_uri": "https://localhost:8080/",
          "height": 34
        },
        "outputId": "98ab6b1d-7cd6-4a31-ebf1-44804d7b3203"
      },
      "source": [
        "[type(i) for i in list(soup.children)]"
      ],
      "execution_count": 11,
      "outputs": [
        {
          "output_type": "execute_result",
          "data": {
            "text/plain": [
              "[bs4.element.Doctype, bs4.element.NavigableString, bs4.element.Tag]"
            ]
          },
          "metadata": {
            "tags": []
          },
          "execution_count": 11
        }
      ]
    },
    {
      "cell_type": "code",
      "metadata": {
        "id": "LZD3BLUi5EKu",
        "colab_type": "code",
        "colab": {}
      },
      "source": [
        "html= list(soup.children)[2]"
      ],
      "execution_count": 0,
      "outputs": []
    },
    {
      "cell_type": "code",
      "metadata": {
        "id": "4z-KYavN6JtM",
        "colab_type": "code",
        "colab": {
          "base_uri": "https://localhost:8080/",
          "height": 102
        },
        "outputId": "ffec8a68-f731-4a60-a1de-d81968eff6e6"
      },
      "source": [
        "list(html.children)"
      ],
      "execution_count": 13,
      "outputs": [
        {
          "output_type": "execute_result",
          "data": {
            "text/plain": [
              "['\\n', <head>\n",
              " <title>A simple example page</title>\n",
              " </head>, '\\n', <body>\n",
              " <p>Here is some simple content for this page.</p>\n",
              " </body>, '\\n']"
            ]
          },
          "metadata": {
            "tags": []
          },
          "execution_count": 13
        }
      ]
    },
    {
      "cell_type": "code",
      "metadata": {
        "id": "k9bl3WPa6TqU",
        "colab_type": "code",
        "colab": {}
      },
      "source": [
        "body = list(html.children)[3]\n"
      ],
      "execution_count": 0,
      "outputs": []
    },
    {
      "cell_type": "code",
      "metadata": {
        "id": "TlfNn3td6k2b",
        "colab_type": "code",
        "colab": {
          "base_uri": "https://localhost:8080/",
          "height": 34
        },
        "outputId": "3423517c-b477-4f47-8769-124493bc40c8"
      },
      "source": [
        "list(body.children)"
      ],
      "execution_count": 15,
      "outputs": [
        {
          "output_type": "execute_result",
          "data": {
            "text/plain": [
              "['\\n', <p>Here is some simple content for this page.</p>, '\\n']"
            ]
          },
          "metadata": {
            "tags": []
          },
          "execution_count": 15
        }
      ]
    },
    {
      "cell_type": "code",
      "metadata": {
        "id": "l07TD88b6xdu",
        "colab_type": "code",
        "colab": {}
      },
      "source": [
        "p  = list(body.children)[1]"
      ],
      "execution_count": 0,
      "outputs": []
    },
    {
      "cell_type": "code",
      "metadata": {
        "id": "8_pooC5y6089",
        "colab_type": "code",
        "colab": {
          "base_uri": "https://localhost:8080/",
          "height": 34
        },
        "outputId": "c4ab1b8b-12fe-4003-ded5-369b771e05b7"
      },
      "source": [
        "p.get_text()"
      ],
      "execution_count": 17,
      "outputs": [
        {
          "output_type": "execute_result",
          "data": {
            "text/plain": [
              "'Here is some simple content for this page.'"
            ]
          },
          "metadata": {
            "tags": []
          },
          "execution_count": 17
        }
      ]
    },
    {
      "cell_type": "code",
      "metadata": {
        "id": "E4KlDQ4N7mfJ",
        "colab_type": "code",
        "colab": {
          "base_uri": "https://localhost:8080/",
          "height": 34
        },
        "outputId": "525a04ca-d05f-4221-99b4-e0c03d040f42"
      },
      "source": [
        "soup.find_all('p')"
      ],
      "execution_count": 18,
      "outputs": [
        {
          "output_type": "execute_result",
          "data": {
            "text/plain": [
              "[<p>Here is some simple content for this page.</p>]"
            ]
          },
          "metadata": {
            "tags": []
          },
          "execution_count": 18
        }
      ]
    },
    {
      "cell_type": "code",
      "metadata": {
        "id": "x3C_H_qb7u5A",
        "colab_type": "code",
        "colab": {
          "base_uri": "https://localhost:8080/",
          "height": 34
        },
        "outputId": "2127f732-2f9c-4a07-a521-bf6a17f6287f"
      },
      "source": [
        "soup.find_all('p')[0].get_text()"
      ],
      "execution_count": 19,
      "outputs": [
        {
          "output_type": "execute_result",
          "data": {
            "text/plain": [
              "'Here is some simple content for this page.'"
            ]
          },
          "metadata": {
            "tags": []
          },
          "execution_count": 19
        }
      ]
    },
    {
      "cell_type": "code",
      "metadata": {
        "id": "pzm862c37_gg",
        "colab_type": "code",
        "colab": {
          "base_uri": "https://localhost:8080/",
          "height": 34
        },
        "outputId": "6eeacfbe-60e0-4690-8a9e-177f5eac804d"
      },
      "source": [
        "soup.find('p')"
      ],
      "execution_count": 20,
      "outputs": [
        {
          "output_type": "execute_result",
          "data": {
            "text/plain": [
              "<p>Here is some simple content for this page.</p>"
            ]
          },
          "metadata": {
            "tags": []
          },
          "execution_count": 20
        }
      ]
    },
    {
      "cell_type": "code",
      "metadata": {
        "id": "3rejCyVB82Ad",
        "colab_type": "code",
        "colab": {}
      },
      "source": [
        "page1 = requests.get(\" http://dataquestio.github.io/web-scraping-pages/ids_and_classes.html\")"
      ],
      "execution_count": 0,
      "outputs": []
    },
    {
      "cell_type": "code",
      "metadata": {
        "id": "aIA8oGup9BdC",
        "colab_type": "code",
        "colab": {}
      },
      "source": [
        " soup1 = BeautifulSoup(page1.content , 'html.parser')"
      ],
      "execution_count": 0,
      "outputs": []
    },
    {
      "cell_type": "code",
      "metadata": {
        "id": "pmCXCJep9YiJ",
        "colab_type": "code",
        "colab": {
          "base_uri": "https://localhost:8080/",
          "height": 442
        },
        "outputId": "ea063e45-5fb9-4c24-9fbd-d3d25841f98a"
      },
      "source": [
        "soup1"
      ],
      "execution_count": 23,
      "outputs": [
        {
          "output_type": "execute_result",
          "data": {
            "text/plain": [
              "<html>\n",
              "<head>\n",
              "<title>A simple example page</title>\n",
              "</head>\n",
              "<body>\n",
              "<div>\n",
              "<p class=\"inner-text first-item\" id=\"first\">\n",
              "                First paragraph.\n",
              "            </p>\n",
              "<p class=\"inner-text\">\n",
              "                Second paragraph.\n",
              "            </p>\n",
              "</div>\n",
              "<p class=\"outer-text first-item\" id=\"second\">\n",
              "<b>\n",
              "                First outer paragraph.\n",
              "            </b>\n",
              "</p>\n",
              "<p class=\"outer-text\">\n",
              "<b>\n",
              "                Second outer paragraph.\n",
              "            </b>\n",
              "</p>\n",
              "</body>\n",
              "</html>"
            ]
          },
          "metadata": {
            "tags": []
          },
          "execution_count": 23
        }
      ]
    },
    {
      "cell_type": "code",
      "metadata": {
        "id": "UQxE2l0p-gU2",
        "colab_type": "code",
        "colab": {
          "base_uri": "https://localhost:8080/",
          "height": 170
        },
        "outputId": "3fb1a549-5046-4265-d094-2d80816bf845"
      },
      "source": [
        "soup1.find_all('p', class_='outer-text')"
      ],
      "execution_count": 24,
      "outputs": [
        {
          "output_type": "execute_result",
          "data": {
            "text/plain": [
              "[<p class=\"outer-text first-item\" id=\"second\">\n",
              " <b>\n",
              "                 First outer paragraph.\n",
              "             </b>\n",
              " </p>, <p class=\"outer-text\">\n",
              " <b>\n",
              "                 Second outer paragraph.\n",
              "             </b>\n",
              " </p>]"
            ]
          },
          "metadata": {
            "tags": []
          },
          "execution_count": 24
        }
      ]
    },
    {
      "cell_type": "code",
      "metadata": {
        "id": "g87_wqMaFuTL",
        "colab_type": "code",
        "colab": {
          "base_uri": "https://localhost:8080/",
          "height": 102
        },
        "outputId": "63569b22-31a1-4736-986d-e506cece9bdd"
      },
      "source": [
        "soup1.select('div p')"
      ],
      "execution_count": 25,
      "outputs": [
        {
          "output_type": "execute_result",
          "data": {
            "text/plain": [
              "[<p class=\"inner-text first-item\" id=\"first\">\n",
              "                 First paragraph.\n",
              "             </p>, <p class=\"inner-text\">\n",
              "                 Second paragraph.\n",
              "             </p>]"
            ]
          },
          "metadata": {
            "tags": []
          },
          "execution_count": 25
        }
      ]
    },
    {
      "cell_type": "code",
      "metadata": {
        "id": "jJXimCfkGPa7",
        "colab_type": "code",
        "colab": {}
      },
      "source": [
        "page2 = requests.get(\"https://forecast.weather.gov/MapClick.php?lat=37.7772&lon=-122.4168#.XlN7KCgzbIU\")"
      ],
      "execution_count": 0,
      "outputs": []
    },
    {
      "cell_type": "code",
      "metadata": {
        "id": "FQddFGliGhST",
        "colab_type": "code",
        "colab": {}
      },
      "source": [
        "soup2 = BeautifulSoup(page2.content,'html.parser')"
      ],
      "execution_count": 0,
      "outputs": []
    },
    {
      "cell_type": "code",
      "metadata": {
        "id": "DaKxtT89G1mw",
        "colab_type": "code",
        "colab": {}
      },
      "source": [
        "forecast = soup2.find(id = \"seven-day-forecast\")"
      ],
      "execution_count": 0,
      "outputs": []
    },
    {
      "cell_type": "code",
      "metadata": {
        "id": "GY-W29OBHMzo",
        "colab_type": "code",
        "colab": {}
      },
      "source": [
        "sevenitems = soup2.find_all(class_ =  \"forecast-tombstone\")"
      ],
      "execution_count": 0,
      "outputs": []
    },
    {
      "cell_type": "code",
      "metadata": {
        "id": "66gWcNhWHgbZ",
        "colab_type": "code",
        "colab": {}
      },
      "source": [
        "list_forecase = list(sevenitems)"
      ],
      "execution_count": 0,
      "outputs": []
    },
    {
      "cell_type": "code",
      "metadata": {
        "id": "qgfWd9bCHlYj",
        "colab_type": "code",
        "colab": {
          "base_uri": "https://localhost:8080/",
          "height": 105
        },
        "outputId": "d1105742-743b-4f11-88ec-6e13fc2d11fb"
      },
      "source": [
        "list_forecase[0]"
      ],
      "execution_count": 34,
      "outputs": [
        {
          "output_type": "execute_result",
          "data": {
            "text/plain": [
              "<li class=\"forecast-tombstone\">\n",
              "<div class=\"tombstone-container\">\n",
              "<p class=\"period-name\">Today<br/><br/></p>\n",
              "<p><img alt=\"Today: Mostly cloudy through mid morning, then gradual clearing, with a high near 64. Light and variable wind becoming west 5 to 9 mph in the afternoon. \" class=\"forecast-icon\" src=\"newimages/medium/bkn.png\" title=\"Today: Mostly cloudy through mid morning, then gradual clearing, with a high near 64. Light and variable wind becoming west 5 to 9 mph in the afternoon. \"/></p><p class=\"short-desc\">Becoming<br/>Sunny</p><p class=\"temp temp-high\">High: 64 °F</p></div></li>"
            ]
          },
          "metadata": {
            "tags": []
          },
          "execution_count": 34
        }
      ]
    },
    {
      "cell_type": "code",
      "metadata": {
        "id": "b2j1lhKdH8ww",
        "colab_type": "code",
        "colab": {}
      },
      "source": [
        "today = list_forecase[0]"
      ],
      "execution_count": 0,
      "outputs": []
    },
    {
      "cell_type": "code",
      "metadata": {
        "id": "yofnWztCIBmw",
        "colab_type": "code",
        "colab": {
          "base_uri": "https://localhost:8080/",
          "height": 394
        },
        "outputId": "ed467ede-c12f-48c1-f9d5-8ae9ee58bbd6"
      },
      "source": [
        "print(today.prettify())"
      ],
      "execution_count": 42,
      "outputs": [
        {
          "output_type": "stream",
          "text": [
            "<li class=\"forecast-tombstone\">\n",
            " <div class=\"tombstone-container\">\n",
            "  <p class=\"period-name\">\n",
            "   Today\n",
            "   <br/>\n",
            "   <br/>\n",
            "  </p>\n",
            "  <p>\n",
            "   <img alt=\"Today: Mostly cloudy through mid morning, then gradual clearing, with a high near 64. Light and variable wind becoming west 5 to 9 mph in the afternoon. \" class=\"forecast-icon\" src=\"newimages/medium/bkn.png\" title=\"Today: Mostly cloudy through mid morning, then gradual clearing, with a high near 64. Light and variable wind becoming west 5 to 9 mph in the afternoon. \"/>\n",
            "  </p>\n",
            "  <p class=\"short-desc\">\n",
            "   Becoming\n",
            "   <br/>\n",
            "   Sunny\n",
            "  </p>\n",
            "  <p class=\"temp temp-high\">\n",
            "   High: 64 °F\n",
            "  </p>\n",
            " </div>\n",
            "</li>\n",
            "\n"
          ],
          "name": "stdout"
        }
      ]
    },
    {
      "cell_type": "code",
      "metadata": {
        "id": "HKsAudevJb4W",
        "colab_type": "code",
        "colab": {
          "base_uri": "https://localhost:8080/",
          "height": 85
        },
        "outputId": "986ccf99-7227-4b40-b02d-f329ec5f2fb8"
      },
      "source": [
        "period = today.find(class_ = \"period-name\" ).get_text()\n",
        "short_desc = today.find(class_ = \"short-desc\" ).get_text()\n",
        "temp  = today.find(class_ = \"temp temp-high\").get_text()\n",
        "img = today.find(\"img\")\n",
        "desc = img['title']\n",
        "\n",
        "print(period)\n",
        "print(short_desc)\n",
        "print(temp)\n",
        "print(desc)"
      ],
      "execution_count": 52,
      "outputs": [
        {
          "output_type": "stream",
          "text": [
            "Today\n",
            "BecomingSunny\n",
            "High: 64 °F\n",
            "Today: Mostly cloudy through mid morning, then gradual clearing, with a high near 64. Light and variable wind becoming west 5 to 9 mph in the afternoon. \n"
          ],
          "name": "stdout"
        }
      ]
    },
    {
      "cell_type": "code",
      "metadata": {
        "id": "AsTkngTtN40r",
        "colab_type": "code",
        "colab": {}
      },
      "source": [
        "periodlist = forecast.select(\".tombstone-container .period-name\")\n",
        "short_desclist = forecast.select(\".tombstone-container .short-desc\")\n",
        "templist = forecast.select(\".tombstone-container .temp \")\n",
        "imglist = forecast.select(\".tombstone-container img\")"
      ],
      "execution_count": 0,
      "outputs": []
    },
    {
      "cell_type": "code",
      "metadata": {
        "id": "wYTrkpEtOdqF",
        "colab_type": "code",
        "colab": {}
      },
      "source": [
        "pl = [pt.get_text() for pt in  periodlist]\n",
        "sdsc = [sd.get_text() for sd in  short_desclist]\n",
        "tlst = [tls.get_text() for tls in  templist]\n",
        "imgs = [d['title'] for d in imglist]"
      ],
      "execution_count": 0,
      "outputs": []
    },
    {
      "cell_type": "code",
      "metadata": {
        "id": "tjXHYsx6PTIx",
        "colab_type": "code",
        "colab": {
          "base_uri": "https://localhost:8080/",
          "height": 207
        },
        "outputId": "34b7b525-a1ed-4c25-cb8e-abcc9979a9ac"
      },
      "source": [
        "print(imgs)\n",
        "print(\"\\n\")\n",
        "print(tlst)\n",
        "print(\"\\n\")\n",
        "print(pl)\n",
        "print(\"\\n\")\n",
        "print(sdsc)\n"
      ],
      "execution_count": 81,
      "outputs": [
        {
          "output_type": "stream",
          "text": [
            "['Today: Mostly cloudy through mid morning, then gradual clearing, with a high near 64. Light and variable wind becoming west 5 to 9 mph in the afternoon. ', 'Tonight: Clear, with a low around 49. West wind around 6 mph becoming calm  in the evening. ', 'Tuesday: Sunny, with a high near 68. Calm wind becoming west 5 to 8 mph in the afternoon. ', 'Tuesday Night: Partly cloudy, with a low around 49. West wind around 5 mph becoming calm  in the evening. ', 'Wednesday: Sunny, with a high near 69. Light north wind. ', 'Wednesday Night: Mostly clear, with a low around 50.', 'Thursday: Mostly sunny, with a high near 72.', 'Thursday Night: Partly cloudy, with a low around 52.', 'Friday: Partly sunny, with a high near 69.']\n",
            "\n",
            "\n",
            "['High: 64 °F', 'Low: 49 °F', 'High: 68 °F', 'Low: 49 °F', 'High: 69 °F', 'Low: 50 °F', 'High: 72 °F', 'Low: 52 °F', 'High: 69 °F']\n",
            "\n",
            "\n",
            "['Today', 'Tonight', 'Tuesday', 'TuesdayNight', 'Wednesday', 'WednesdayNight', 'Thursday', 'ThursdayNight', 'Friday']\n",
            "\n",
            "\n",
            "['BecomingSunny', 'Clear', 'Sunny', 'Partly Cloudy', 'Sunny', 'Mostly Clear', 'Mostly Sunny', 'Partly Cloudy', 'Partly Sunny']\n"
          ],
          "name": "stdout"
        }
      ]
    },
    {
      "cell_type": "code",
      "metadata": {
        "id": "USRsZ4LjQQAP",
        "colab_type": "code",
        "colab": {}
      },
      "source": [
        "import pandas as pd "
      ],
      "execution_count": 0,
      "outputs": []
    },
    {
      "cell_type": "code",
      "metadata": {
        "id": "brOW-ZoqRl-v",
        "colab_type": "code",
        "colab": {}
      },
      "source": [
        "weather =  pd.DataFrame({\n",
        "    \"day\" : pl,\n",
        "    \"short_description\" : sdsc,\n",
        "    \"temperature\" : tlst,\n",
        "    \"large_desc\" : imgs\n",
        "})"
      ],
      "execution_count": 0,
      "outputs": []
    },
    {
      "cell_type": "code",
      "metadata": {
        "id": "XVaVyZW5SVX1",
        "colab_type": "code",
        "colab": {
          "base_uri": "https://localhost:8080/",
          "height": 328
        },
        "outputId": "a538e533-22ce-4613-b1e2-dcbe2b74622d"
      },
      "source": [
        "weather"
      ],
      "execution_count": 86,
      "outputs": [
        {
          "output_type": "execute_result",
          "data": {
            "text/html": [
              "<div>\n",
              "<style scoped>\n",
              "    .dataframe tbody tr th:only-of-type {\n",
              "        vertical-align: middle;\n",
              "    }\n",
              "\n",
              "    .dataframe tbody tr th {\n",
              "        vertical-align: top;\n",
              "    }\n",
              "\n",
              "    .dataframe thead th {\n",
              "        text-align: right;\n",
              "    }\n",
              "</style>\n",
              "<table border=\"1\" class=\"dataframe\">\n",
              "  <thead>\n",
              "    <tr style=\"text-align: right;\">\n",
              "      <th></th>\n",
              "      <th>day</th>\n",
              "      <th>short_description</th>\n",
              "      <th>temperature</th>\n",
              "      <th>large_desc</th>\n",
              "    </tr>\n",
              "  </thead>\n",
              "  <tbody>\n",
              "    <tr>\n",
              "      <th>0</th>\n",
              "      <td>Today</td>\n",
              "      <td>BecomingSunny</td>\n",
              "      <td>High: 64 °F</td>\n",
              "      <td>Today: Mostly cloudy through mid morning, then...</td>\n",
              "    </tr>\n",
              "    <tr>\n",
              "      <th>1</th>\n",
              "      <td>Tonight</td>\n",
              "      <td>Clear</td>\n",
              "      <td>Low: 49 °F</td>\n",
              "      <td>Tonight: Clear, with a low around 49. West win...</td>\n",
              "    </tr>\n",
              "    <tr>\n",
              "      <th>2</th>\n",
              "      <td>Tuesday</td>\n",
              "      <td>Sunny</td>\n",
              "      <td>High: 68 °F</td>\n",
              "      <td>Tuesday: Sunny, with a high near 68. Calm wind...</td>\n",
              "    </tr>\n",
              "    <tr>\n",
              "      <th>3</th>\n",
              "      <td>TuesdayNight</td>\n",
              "      <td>Partly Cloudy</td>\n",
              "      <td>Low: 49 °F</td>\n",
              "      <td>Tuesday Night: Partly cloudy, with a low aroun...</td>\n",
              "    </tr>\n",
              "    <tr>\n",
              "      <th>4</th>\n",
              "      <td>Wednesday</td>\n",
              "      <td>Sunny</td>\n",
              "      <td>High: 69 °F</td>\n",
              "      <td>Wednesday: Sunny, with a high near 69. Light n...</td>\n",
              "    </tr>\n",
              "    <tr>\n",
              "      <th>5</th>\n",
              "      <td>WednesdayNight</td>\n",
              "      <td>Mostly Clear</td>\n",
              "      <td>Low: 50 °F</td>\n",
              "      <td>Wednesday Night: Mostly clear, with a low arou...</td>\n",
              "    </tr>\n",
              "    <tr>\n",
              "      <th>6</th>\n",
              "      <td>Thursday</td>\n",
              "      <td>Mostly Sunny</td>\n",
              "      <td>High: 72 °F</td>\n",
              "      <td>Thursday: Mostly sunny, with a high near 72.</td>\n",
              "    </tr>\n",
              "    <tr>\n",
              "      <th>7</th>\n",
              "      <td>ThursdayNight</td>\n",
              "      <td>Partly Cloudy</td>\n",
              "      <td>Low: 52 °F</td>\n",
              "      <td>Thursday Night: Partly cloudy, with a low arou...</td>\n",
              "    </tr>\n",
              "    <tr>\n",
              "      <th>8</th>\n",
              "      <td>Friday</td>\n",
              "      <td>Partly Sunny</td>\n",
              "      <td>High: 69 °F</td>\n",
              "      <td>Friday: Partly sunny, with a high near 69.</td>\n",
              "    </tr>\n",
              "  </tbody>\n",
              "</table>\n",
              "</div>"
            ],
            "text/plain": [
              "              day  ...                                         large_desc\n",
              "0           Today  ...  Today: Mostly cloudy through mid morning, then...\n",
              "1         Tonight  ...  Tonight: Clear, with a low around 49. West win...\n",
              "2         Tuesday  ...  Tuesday: Sunny, with a high near 68. Calm wind...\n",
              "3    TuesdayNight  ...  Tuesday Night: Partly cloudy, with a low aroun...\n",
              "4       Wednesday  ...  Wednesday: Sunny, with a high near 69. Light n...\n",
              "5  WednesdayNight  ...  Wednesday Night: Mostly clear, with a low arou...\n",
              "6        Thursday  ...       Thursday: Mostly sunny, with a high near 72.\n",
              "7   ThursdayNight  ...  Thursday Night: Partly cloudy, with a low arou...\n",
              "8          Friday  ...         Friday: Partly sunny, with a high near 69.\n",
              "\n",
              "[9 rows x 4 columns]"
            ]
          },
          "metadata": {
            "tags": []
          },
          "execution_count": 86
        }
      ]
    }
  ]
}